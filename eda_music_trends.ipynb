{
 "cells": [
  {
   "cell_type": "markdown",
   "metadata": {
    "id": "E0vqbgi9ay0H"
   },
   "source": [
    "# Análisis de preferencias musicales por grupo demográfico"
   ]
  },
  {
   "cell_type": "markdown",
   "metadata": {
    "id": "fhq_eyov_Zcs"
   },
   "source": [
    "# Contenido <a id='back'></a>\n",
    "\n",
    "* [Introducción](#intro)\n",
    "* [Etapa 1. Descripción de los datos](#data_review)\n",
    "* [Etapa 2. Preprocesamiento de datos](#data_preprocessing)\n",
    "    * [2.1 Estilo del encabezado](#header_style)\n",
    "    * [2.2 Valores ausentes](#missing_values)\n",
    "    * [2.3 Duplicados](#duplicates)\n",
    "    * [2.4 Observaciones](#data_preprocessing_conclusions)\n",
    "* [Etapa 3. Prueba de hipótesis](#hypothesis)\n",
    "* [Conclusiones](#end)"
   ]
  },
  {
   "cell_type": "markdown",
   "metadata": {
    "id": "VUC88oWjTJw2"
   },
   "source": [
    "## Introducción <a id='intro'></a>\n",
    "\n",
    "El objetivo de este proyecto es analizar un conjunto de datos para extraer información relevante que permita tomar decisiones informadas. Para ello, se abordarán varias etapas, como la revisión inicial de los datos, el preprocesamiento y la prueba de hipótesis.\n",
    "\n",
    "En este caso, se compararán las preferencias musicales de los usuarios de las ciudades de **Springfield** y **Shelbyville**. Utilizando datos reales de reproducción de música en línea, se evaluarán hipótesis relacionadas con el comportamiento musical por día de la semana y por ciudad.\n",
    "\n",
    "### Objetivo\n",
    "\n",
    "Probar la siguiente hipótesis:\n",
    "\n",
    "1. La actividad de los usuarios varía según el día de la semana y depende de la ciudad de residencia.\n",
    "\n",
    "### Etapas del proyecto\n",
    "\n",
    "Los datos de comportamiento del usuario se encuentran en el archivo `/datasets/music_project_en.csv`.\n",
    "\n",
    "El proyecto se divide en las siguientes etapas:\n",
    "\n",
    "1. Descripción de los datos  \n",
    "2. Preprocesamiento  \n",
    "3. Prueba de hipótesis"
   ]
  },
  {
   "cell_type": "markdown",
   "metadata": {
    "id": "Ml1hmfXC_Zcs"
   },
   "source": [
    "## Etapa 1. Descripción de los datos <a id='data_review'></a>"
   ]
  },
  {
   "cell_type": "code",
   "execution_count": 2,
   "metadata": {
    "id": "AXN7PHPN_Zcs",
    "trusted": true
   },
   "outputs": [],
   "source": [
    "# Importar pandas\n",
    "import pandas as pd"
   ]
  },
  {
   "cell_type": "code",
   "execution_count": 3,
   "metadata": {
    "id": "fFVu7vqh_Zct",
    "trusted": true
   },
   "outputs": [],
   "source": [
    "# Leer el archivo y almacenarlo en df\n",
    "df = pd.read_csv(\"/datasets/music_project_en.csv\")"
   ]
  },
  {
   "cell_type": "markdown",
   "metadata": {
    "id": "rDoOMd3uTqnZ"
   },
   "source": [
    "Se muestran las 10 primeras filas de la tabla, para observar la estructura de los datos y las columnas que contiene."
   ]
  },
  {
   "cell_type": "code",
   "execution_count": 4,
   "metadata": {
    "id": "oWTVX3gW_Zct",
    "trusted": true
   },
   "outputs": [
    {
     "data": {
      "text/html": [
       "<div>\n",
       "<style scoped>\n",
       "    .dataframe tbody tr th:only-of-type {\n",
       "        vertical-align: middle;\n",
       "    }\n",
       "\n",
       "    .dataframe tbody tr th {\n",
       "        vertical-align: top;\n",
       "    }\n",
       "\n",
       "    .dataframe thead th {\n",
       "        text-align: right;\n",
       "    }\n",
       "</style>\n",
       "<table border=\"1\" class=\"dataframe\">\n",
       "  <thead>\n",
       "    <tr style=\"text-align: right;\">\n",
       "      <th></th>\n",
       "      <th>userID</th>\n",
       "      <th>Track</th>\n",
       "      <th>artist</th>\n",
       "      <th>genre</th>\n",
       "      <th>City</th>\n",
       "      <th>time</th>\n",
       "      <th>Day</th>\n",
       "    </tr>\n",
       "  </thead>\n",
       "  <tbody>\n",
       "    <tr>\n",
       "      <th>0</th>\n",
       "      <td>FFB692EC</td>\n",
       "      <td>Kamigata To Boots</td>\n",
       "      <td>The Mass Missile</td>\n",
       "      <td>rock</td>\n",
       "      <td>Shelbyville</td>\n",
       "      <td>20:28:33</td>\n",
       "      <td>Wednesday</td>\n",
       "    </tr>\n",
       "    <tr>\n",
       "      <th>1</th>\n",
       "      <td>55204538</td>\n",
       "      <td>Delayed Because of Accident</td>\n",
       "      <td>Andreas Rönnberg</td>\n",
       "      <td>rock</td>\n",
       "      <td>Springfield</td>\n",
       "      <td>14:07:09</td>\n",
       "      <td>Friday</td>\n",
       "    </tr>\n",
       "    <tr>\n",
       "      <th>2</th>\n",
       "      <td>20EC38</td>\n",
       "      <td>Funiculì funiculà</td>\n",
       "      <td>Mario Lanza</td>\n",
       "      <td>pop</td>\n",
       "      <td>Shelbyville</td>\n",
       "      <td>20:58:07</td>\n",
       "      <td>Wednesday</td>\n",
       "    </tr>\n",
       "    <tr>\n",
       "      <th>3</th>\n",
       "      <td>A3DD03C9</td>\n",
       "      <td>Dragons in the Sunset</td>\n",
       "      <td>Fire + Ice</td>\n",
       "      <td>folk</td>\n",
       "      <td>Shelbyville</td>\n",
       "      <td>08:37:09</td>\n",
       "      <td>Monday</td>\n",
       "    </tr>\n",
       "    <tr>\n",
       "      <th>4</th>\n",
       "      <td>E2DC1FAE</td>\n",
       "      <td>Soul People</td>\n",
       "      <td>Space Echo</td>\n",
       "      <td>dance</td>\n",
       "      <td>Springfield</td>\n",
       "      <td>08:34:34</td>\n",
       "      <td>Monday</td>\n",
       "    </tr>\n",
       "    <tr>\n",
       "      <th>5</th>\n",
       "      <td>842029A1</td>\n",
       "      <td>Chains</td>\n",
       "      <td>Obladaet</td>\n",
       "      <td>rusrap</td>\n",
       "      <td>Shelbyville</td>\n",
       "      <td>13:09:41</td>\n",
       "      <td>Friday</td>\n",
       "    </tr>\n",
       "    <tr>\n",
       "      <th>6</th>\n",
       "      <td>4CB90AA5</td>\n",
       "      <td>True</td>\n",
       "      <td>Roman Messer</td>\n",
       "      <td>dance</td>\n",
       "      <td>Springfield</td>\n",
       "      <td>13:00:07</td>\n",
       "      <td>Wednesday</td>\n",
       "    </tr>\n",
       "    <tr>\n",
       "      <th>7</th>\n",
       "      <td>F03E1C1F</td>\n",
       "      <td>Feeling This Way</td>\n",
       "      <td>Polina Griffith</td>\n",
       "      <td>dance</td>\n",
       "      <td>Springfield</td>\n",
       "      <td>20:47:49</td>\n",
       "      <td>Wednesday</td>\n",
       "    </tr>\n",
       "    <tr>\n",
       "      <th>8</th>\n",
       "      <td>8FA1D3BE</td>\n",
       "      <td>L’estate</td>\n",
       "      <td>Julia Dalia</td>\n",
       "      <td>ruspop</td>\n",
       "      <td>Springfield</td>\n",
       "      <td>09:17:40</td>\n",
       "      <td>Friday</td>\n",
       "    </tr>\n",
       "    <tr>\n",
       "      <th>9</th>\n",
       "      <td>E772D5C0</td>\n",
       "      <td>Pessimist</td>\n",
       "      <td>NaN</td>\n",
       "      <td>dance</td>\n",
       "      <td>Shelbyville</td>\n",
       "      <td>21:20:49</td>\n",
       "      <td>Wednesday</td>\n",
       "    </tr>\n",
       "  </tbody>\n",
       "</table>\n",
       "</div>"
      ],
      "text/plain": [
       "     userID                        Track            artist   genre  \\\n",
       "0  FFB692EC            Kamigata To Boots  The Mass Missile    rock   \n",
       "1  55204538  Delayed Because of Accident  Andreas Rönnberg    rock   \n",
       "2    20EC38            Funiculì funiculà       Mario Lanza     pop   \n",
       "3  A3DD03C9        Dragons in the Sunset        Fire + Ice    folk   \n",
       "4  E2DC1FAE                  Soul People        Space Echo   dance   \n",
       "5  842029A1                       Chains          Obladaet  rusrap   \n",
       "6  4CB90AA5                         True      Roman Messer   dance   \n",
       "7  F03E1C1F             Feeling This Way   Polina Griffith   dance   \n",
       "8  8FA1D3BE                     L’estate       Julia Dalia  ruspop   \n",
       "9  E772D5C0                    Pessimist               NaN   dance   \n",
       "\n",
       "        City        time        Day  \n",
       "0  Shelbyville  20:28:33  Wednesday  \n",
       "1  Springfield  14:07:09     Friday  \n",
       "2  Shelbyville  20:58:07  Wednesday  \n",
       "3  Shelbyville  08:37:09     Monday  \n",
       "4  Springfield  08:34:34     Monday  \n",
       "5  Shelbyville  13:09:41     Friday  \n",
       "6  Springfield  13:00:07  Wednesday  \n",
       "7  Springfield  20:47:49  Wednesday  \n",
       "8  Springfield  09:17:40     Friday  \n",
       "9  Shelbyville  21:20:49  Wednesday  "
      ]
     },
     "execution_count": 4,
     "metadata": {},
     "output_type": "execute_result"
    }
   ],
   "source": [
    "# Obtener las 10 primeras filas de la tabla df\n",
    "df.head(10)"
   ]
  },
  {
   "cell_type": "code",
   "execution_count": 5,
   "metadata": {
    "id": "DSf2kIb-_Zct",
    "trusted": true
   },
   "outputs": [
    {
     "name": "stdout",
     "output_type": "stream",
     "text": [
      "<class 'pandas.core.frame.DataFrame'>\n",
      "RangeIndex: 65079 entries, 0 to 65078\n",
      "Data columns (total 7 columns):\n",
      " #   Column    Non-Null Count  Dtype \n",
      "---  ------    --------------  ----- \n",
      " 0     userID  65079 non-null  object\n",
      " 1   Track     63736 non-null  object\n",
      " 2   artist    57512 non-null  object\n",
      " 3   genre     63881 non-null  object\n",
      " 4     City    65079 non-null  object\n",
      " 5   time      65079 non-null  object\n",
      " 6   Day       65079 non-null  object\n",
      "dtypes: object(7)\n",
      "memory usage: 3.5+ MB\n"
     ]
    }
   ],
   "source": [
    "# Obtener la información general sobre nuestros datos\n",
    "df.info()"
   ]
  },
  {
   "cell_type": "markdown",
   "metadata": {
    "id": "TaQ2Iwbr_Zct"
   },
   "source": [
    "Estas son nuestras observaciones sobre la tabla. Contiene siete columnas. Almacenan los mismos tipos de datos: `object`.\n",
    "\n",
    "Según la documentación del conjunto de datos, las columnas representan:\n",
    "\n",
    "- `' userID'`: identificador del usuario  \n",
    "- `'Track'`: título de la canción  \n",
    "- `'artist'`: nombre del artista  \n",
    "- `'genre'`: género musical  \n",
    "- `'City'`: ciudad del usuario  \n",
    "- `'time'`: hora exacta de reproducción  \n",
    "- `'Day'`: día de la semana  \n",
    "\n",
    "Se identifican algunos problemas en los encabezados:\n",
    "\n",
    "1. Uso inconsistente de mayúsculas y minúsculas. \n",
    "2. Presencia de espacios innecesarios.\n",
    "3. Encabezados poco descriptivos."
   ]
  },
  {
   "cell_type": "markdown",
   "metadata": {
    "id": "MCB6-dXG_Zct"
   },
   "source": [
    "Aunque todos los datos son categóricos, es importante analizar los valores únicos en cada categoría.\n",
    "\n",
    "Con aproximadamente 65,000 registros, el volumen de datos es suficiente para realizar un análisis fiable. Las columnas clave para el estudio de la hipótesis (`'City'`, `'time'` y `'Day'`) no presentan valores ausentes, lo cual es ideal. Si bien existen algunos valores faltantes en otras columnas, no representan un porcentaje significativo."
   ]
  },
  {
   "cell_type": "markdown",
   "metadata": {
    "id": "SjYF6Ub9_Zct"
   },
   "source": [
    "## Etapa 2. Preprocesamiento de datos <a id='data_preprocessing'></a>\n",
    "\n",
    "El objetivo aquí es preparar los datos para que sean analizados.\n",
    "El primer paso es resolver cualquier problema con los encabezados. Luego podemos avanzar a los valores ausentes y duplicados."
   ]
  },
  {
   "cell_type": "markdown",
   "metadata": {
    "id": "dIaKXr29_Zct"
   },
   "source": [
    "### Estilo del encabezado <a id='header_style'></a>"
   ]
  },
  {
   "cell_type": "code",
   "execution_count": 6,
   "metadata": {
    "id": "oKOTdF_Q_Zct",
    "trusted": true
   },
   "outputs": [
    {
     "name": "stdout",
     "output_type": "stream",
     "text": [
      "Index(['  userID', 'Track', 'artist', 'genre', '  City  ', 'time', 'Day'], dtype='object')\n"
     ]
    }
   ],
   "source": [
    "# Muestra los nombres de las columnas\n",
    "print(df.columns)"
   ]
  },
  {
   "cell_type": "markdown",
   "metadata": {
    "id": "zj5534cv_Zct"
   },
   "source": [
    "Se adaptarán los encabezados a estas reglas de estilo:\n",
    "* Todos los caracteres deben ser minúsculas.\n",
    "* Se elimina los espacios.\n",
    "* Si el nombre tiene varias palabras, se utiliza snake_case."
   ]
  },
  {
   "cell_type": "markdown",
   "metadata": {
    "id": "Xu0zkfe5zNJe"
   },
   "source": [
    "Se utilizará el bucle for para iterar sobre los nombres de las columnas y poner todos los caracteres en minúsculas."
   ]
  },
  {
   "cell_type": "code",
   "execution_count": 7,
   "metadata": {
    "id": "6I_RwwMhzM4e",
    "trusted": true
   },
   "outputs": [
    {
     "name": "stdout",
     "output_type": "stream",
     "text": [
      "Index(['  userid', 'track', 'artist', 'genre', '  city  ', 'time', 'day'], dtype='object')\n"
     ]
    }
   ],
   "source": [
    "# Bucle en los encabezados poniendo todo en minúsculas\n",
    "new_col = []\n",
    "\n",
    "for name in df.columns:\n",
    "    name = name.lower()    \n",
    "    new_col.append(name)\n",
    "\n",
    "df.columns = new_col\n",
    "print(df.columns)"
   ]
  },
  {
   "cell_type": "markdown",
   "metadata": {
    "id": "pweIRxjSzPYW"
   },
   "source": [
    "Ahora, utilizando el mismo método, se eliminan los espacios al principio y al final de los nombres de las columnas:"
   ]
  },
  {
   "cell_type": "code",
   "execution_count": 8,
   "metadata": {
    "id": "vVQXbFyJzSYl",
    "trusted": true
   },
   "outputs": [
    {
     "name": "stdout",
     "output_type": "stream",
     "text": [
      "Index(['userid', 'track', 'artist', 'genre', 'city', 'time', 'day'], dtype='object')\n"
     ]
    }
   ],
   "source": [
    "# Bucle en los encabezados eliminando los espacios\n",
    "new_col = []\n",
    "\n",
    "for name in df.columns:    \n",
    "    name = name.strip()\n",
    "    new_col.append(name)\n",
    "\n",
    "df.columns = new_col\n",
    "print(df.columns)"
   ]
  },
  {
   "cell_type": "markdown",
   "metadata": {
    "id": "yCb8MW1JzURd"
   },
   "source": [
    "Necesitamos aplicar la regla de snake_case a la columna `userid`. Debe ser `user_id`."
   ]
  },
  {
   "cell_type": "code",
   "execution_count": 9,
   "metadata": {
    "id": "ISlFqs5y_Zct",
    "trusted": true
   },
   "outputs": [
    {
     "name": "stdout",
     "output_type": "stream",
     "text": [
      "Index(['user_id', 'track', 'artist', 'genre', 'city', 'time', 'day'], dtype='object')\n"
     ]
    }
   ],
   "source": [
    "# Cambiar el nombre de la columna \"userid\"\n",
    "df.rename(columns={'userid': 'user_id'}, inplace=True)\n",
    "\n",
    "print(df.columns)"
   ]
  },
  {
   "cell_type": "markdown",
   "metadata": {
    "id": "5ISfbcfY_Zct"
   },
   "source": [
    "### Valores ausentes <a id='missing_values'></a>\n",
    " Primero, se encuentra el número de valores ausentes en la tabla."
   ]
  },
  {
   "cell_type": "code",
   "execution_count": 11,
   "metadata": {
    "id": "RskX29qr_Zct",
    "trusted": true
   },
   "outputs": [
    {
     "name": "stdout",
     "output_type": "stream",
     "text": [
      "user_id       0\n",
      "track      1343\n",
      "artist     7567\n",
      "genre      1198\n",
      "city          0\n",
      "time          0\n",
      "day           0\n",
      "dtype: int64\n"
     ]
    }
   ],
   "source": [
    "# Calcular el número de valores ausentes\n",
    "print(df.isna().sum())"
   ]
  },
  {
   "cell_type": "markdown",
   "metadata": {
    "id": "qubhgnlO_Zct"
   },
   "source": [
    "No todos los valores ausentes afectan a la investigación. Por ejemplo, los valores ausentes en `track` y `artist` no son cruciales. Simplemente se pueden reemplazar con valores predeterminados como el string `'unknown'` (desconocido).\n",
    "\n",
    "Pero los valores ausentes en `'genre'` pueden afectar la comparación entre las preferencias musicales de Springfield y Shelbyville. Ya que no conocemos las razones por las cuales hay datos ausentes en este proyecto con fines prácticos rellenaremos estos valores ausentes con un valor predeterminado."
   ]
  },
  {
   "cell_type": "markdown",
   "metadata": {
    "id": "fSv2laPA_Zct"
   },
   "source": [
    "Reemplazaremos los valores ausentes en las columnas `'track'`, `'artist'` y `'genre'` con el string `'unknown'`. La mejor forma de hacerlo es crear una lista que almacene los nombres de las columnas donde se necesita el reemplazo. Luego, utilizar esta lista e iterar sobre las columnas donde se necesita el reemplazo haciendo el propio reemplazo."
   ]
  },
  {
   "cell_type": "code",
   "execution_count": 12,
   "metadata": {
    "id": "KplB5qWs_Zct",
    "trusted": true
   },
   "outputs": [],
   "source": [
    "# Bucle en los encabezados reemplazando los valores ausentes con 'unknown'\n",
    "col_names = ['track', 'artist', 'genre']\n",
    "\n",
    "for col in col_names:\n",
    "    df[col].fillna('unknown', inplace=True)"
   ]
  },
  {
   "cell_type": "markdown",
   "metadata": {
    "id": "Ilsm-MZo_Zct"
   },
   "source": [
    " Ahora se comprueba el resultado para asegurarse de que después del reemplazo no haya valores ausentes en el conjunto de datos."
   ]
  },
  {
   "cell_type": "code",
   "execution_count": 13,
   "metadata": {
    "id": "Tq4nYRX4_Zct",
    "trusted": true
   },
   "outputs": [
    {
     "name": "stdout",
     "output_type": "stream",
     "text": [
      "user_id    0\n",
      "track      0\n",
      "artist     0\n",
      "genre      0\n",
      "city       0\n",
      "time       0\n",
      "day        0\n",
      "dtype: int64\n"
     ]
    }
   ],
   "source": [
    "# Contar valores ausentes\n",
    "print(df.isna().sum())"
   ]
  },
  {
   "cell_type": "markdown",
   "metadata": {
    "id": "BWKRtBJ3_Zct"
   },
   "source": [
    "### Duplicados <a id='duplicates'></a>"
   ]
  },
  {
   "cell_type": "code",
   "execution_count": 14,
   "metadata": {
    "id": "36eES_S0_Zct",
    "trusted": true
   },
   "outputs": [
    {
     "name": "stdout",
     "output_type": "stream",
     "text": [
      "3826\n"
     ]
    }
   ],
   "source": [
    "# Contar duplicados explícitos\n",
    "print(df.duplicated().sum())"
   ]
  },
  {
   "cell_type": "markdown",
   "metadata": {
    "id": "Ot25h6XR_Zct"
   },
   "source": [
    "Ahora, se eliminan todos los duplicados."
   ]
  },
  {
   "cell_type": "code",
   "execution_count": 15,
   "metadata": {
    "id": "exFHq6tt_Zct",
    "trusted": true
   },
   "outputs": [],
   "source": [
    "# Eliminar duplicados explícitos\n",
    "df = df.drop_duplicates().reset_index(drop=True)"
   ]
  },
  {
   "cell_type": "code",
   "execution_count": 16,
   "metadata": {
    "id": "-8PuNWQ0_Zct",
    "trusted": true
   },
   "outputs": [
    {
     "name": "stdout",
     "output_type": "stream",
     "text": [
      "0\n"
     ]
    }
   ],
   "source": [
    "# Comprobar de nuevo si hay duplicados\n",
    "print(df.duplicated().sum())\n"
   ]
  },
  {
   "cell_type": "markdown",
   "metadata": {
    "id": "QlFBsxAr_Zct"
   },
   "source": [
    "Ahora queremos deshacernos de los duplicados implícitos en la columna `genre`. Por ejemplo, el nombre de un género se puede escribir de varias formas. Dichos errores también pueden afectar al resultado."
   ]
  },
  {
   "cell_type": "markdown",
   "metadata": {
    "id": "eSjWwsOh_Zct"
   },
   "source": [
    "Para hacerlo, primero mostraremos una lista de nombres de género únicos, ordenados en orden alfabético. Para ello:\n",
    "* Se extrae la columna `genre` del DataFrame.\n",
    "* Se llama al método que devolverá todos los valores únicos en la columna extraída.\n"
   ]
  },
  {
   "cell_type": "code",
   "execution_count": null,
   "metadata": {
    "id": "JIUcqzZN_Zct",
    "trusted": true
   },
   "outputs": [
    {
     "name": "stdout",
     "output_type": "stream",
     "text": [
      "['acid', 'acoustic', 'action', 'adult', 'africa', 'afrikaans', 'alternative', 'ambient', 'americana', 'animated', 'anime', 'arabesk', 'arabic', 'arena', 'argentinetango', 'art', 'audiobook', 'avantgarde', 'axé', 'baile', 'balkan', 'beats', 'bigroom', 'black', 'bluegrass', 'blues', 'bollywood', 'bossa', 'brazilian', 'breakbeat', 'breaks', 'broadway', 'cantautori', 'cantopop', 'canzone', 'caribbean', 'caucasian', 'celtic', 'chamber', 'children', 'chill', 'chinese', 'choral', 'christian', 'christmas', 'classical', 'classicmetal', 'club', 'colombian', 'comedy', 'conjazz', 'contemporary', 'country', 'cuban', 'dance', 'dancehall', 'dancepop', 'dark', 'death', 'deep', 'deutschrock', 'deutschspr', 'dirty', 'disco', 'dnb', 'documentary', 'downbeat', 'downtempo', 'drum', 'dub', 'dubstep', 'eastern', 'easy', 'electronic', 'electropop', 'emo', 'entehno', 'epicmetal', 'estrada', 'ethnic', 'eurofolk', 'european', 'experimental', 'extrememetal', 'fado', 'film', 'fitness', 'flamenco', 'folk', 'folklore', 'folkmetal', 'folkrock', 'folktronica', 'forró', 'frankreich', 'französisch', 'french', 'funk', 'future', 'gangsta', 'garage', 'german', 'ghazal', 'gitarre', 'glitch', 'gospel', 'gothic', 'grime', 'grunge', 'gypsy', 'handsup', \"hard'n'heavy\", 'hardcore', 'hardstyle', 'hardtechno', 'hip', 'hip-hop', 'hiphop', 'historisch', 'holiday', 'hop', 'horror', 'house', 'idm', 'independent', 'indian', 'indie', 'indipop', 'industrial', 'inspirational', 'instrumental', 'international', 'irish', 'jam', 'japanese', 'jazz', 'jewish', 'jpop', 'jungle', 'k-pop', 'karadeniz', 'karaoke', 'kayokyoku', 'korean', 'laiko', 'latin', 'latino', 'leftfield', 'local', 'lounge', 'loungeelectronic', 'lovers', 'malaysian', 'mandopop', 'marschmusik', 'meditative', 'mediterranean', 'melodic', 'metal', 'metalcore', 'mexican', 'middle', 'minimal', 'miscellaneous', 'modern', 'mood', 'mpb', 'muslim', 'native', 'neoklassik', 'neue', 'new', 'newage', 'newwave', 'nu', 'nujazz', 'numetal', 'oceania', 'old', 'opera', 'orchestral', 'other', 'piano', 'pop', 'popelectronic', 'popeurodance', 'post', 'posthardcore', 'postrock', 'power', 'progmetal', 'progressive', 'psychedelic', 'punjabi', 'punk', 'quebecois', 'ragga', 'ram', 'rancheras', 'rap', 'rave', 'reggae', 'reggaeton', 'regional', 'relax', 'religious', 'retro', 'rhythm', 'rnb', 'rnr', 'rock', 'rockabilly', 'romance', 'roots', 'ruspop', 'rusrap', 'rusrock', 'salsa', 'samba', 'schlager', 'self', 'sertanejo', 'shoegazing', 'showtunes', 'singer', 'ska', 'slow', 'smooth', 'soul', 'soulful', 'sound', 'soundtrack', 'southern', 'specialty', 'speech', 'spiritual', 'sport', 'stonerrock', 'surf', 'swing', 'synthpop', 'sängerportrait', 'tango', 'tanzorchester', 'taraftar', 'tech', 'techno', 'thrash', 'top', 'traditional', 'tradjazz', 'trance', 'tribal', 'trip', 'triphop', 'tropical', 'türk', 'türkçe', 'unknown', 'urban', 'uzbek', 'variété', 'vi', 'videogame', 'vocal', 'western', 'world', 'worldbeat', 'ïîï']\n",
      "269\n"
     ]
    }
   ],
   "source": [
    "# Inspeccionar los nombres de géneros únicos\n",
    "print(sorted(df['genre'].unique()))\n",
    "print('Total :', df['genre'].nunique())"
   ]
  },
  {
   "cell_type": "markdown",
   "metadata": {
    "id": "qej-Qmuo_Zct"
   },
   "source": [
    "Se crea una función llamada `replace_wrong_genres()` con dos parámetros:\n",
    "* `wrong_genres=`: esta es una lista que contiene todos los valores que se reemplazan.\n",
    "* `correct_genre=`: este es un string que se utiliza como reemplazo.\n",
    "\n",
    "Como resultado, la función debería corregir los nombres en la columna `'genre'` de la tabla `df`, es decir, remplazar cada valor de la lista `wrong_genres` por el valor en `correct_genre`."
   ]
  },
  {
   "cell_type": "code",
   "execution_count": 19,
   "metadata": {
    "id": "ErNDkmns_Zct",
    "trusted": true
   },
   "outputs": [],
   "source": [
    "# Función para reemplazar duplicados implícitos\n",
    "def replace_wrong_genres(wrong_genres, correct_genre):\n",
    "    for name in wrong_genres:\n",
    "        df[df['genre'] == name] = df[df['genre'] == name].replace(name, correct_genre)"
   ]
  },
  {
   "cell_type": "markdown",
   "metadata": {
    "id": "aDoBJxbA_Zct"
   },
   "source": [
    "Ahora, se llama a `replace_wrong_genres()` y pasandole los argumentos para que retire los duplicados implícitos (`hip`, `hop` y `hip-hop`) y los reemplace por `hiphop`:"
   ]
  },
  {
   "cell_type": "code",
   "execution_count": 20,
   "metadata": {
    "id": "YN5i2hpmSo09",
    "trusted": true
   },
   "outputs": [],
   "source": [
    "# Eliminar duplicados implícitos\n",
    "replace_wrong_genres(['hip', 'hop', 'hip-hop'], 'hiphop')"
   ]
  },
  {
   "cell_type": "code",
   "execution_count": null,
   "metadata": {
    "id": "wvixALnFG15m",
    "trusted": true
   },
   "outputs": [
    {
     "name": "stdout",
     "output_type": "stream",
     "text": [
      "['acid', 'acoustic', 'action', 'adult', 'africa', 'afrikaans', 'alternative', 'ambient', 'americana', 'animated', 'anime', 'arabesk', 'arabic', 'arena', 'argentinetango', 'art', 'audiobook', 'avantgarde', 'axé', 'baile', 'balkan', 'beats', 'bigroom', 'black', 'bluegrass', 'blues', 'bollywood', 'bossa', 'brazilian', 'breakbeat', 'breaks', 'broadway', 'cantautori', 'cantopop', 'canzone', 'caribbean', 'caucasian', 'celtic', 'chamber', 'children', 'chill', 'chinese', 'choral', 'christian', 'christmas', 'classical', 'classicmetal', 'club', 'colombian', 'comedy', 'conjazz', 'contemporary', 'country', 'cuban', 'dance', 'dancehall', 'dancepop', 'dark', 'death', 'deep', 'deutschrock', 'deutschspr', 'dirty', 'disco', 'dnb', 'documentary', 'downbeat', 'downtempo', 'drum', 'dub', 'dubstep', 'eastern', 'easy', 'electronic', 'electropop', 'emo', 'entehno', 'epicmetal', 'estrada', 'ethnic', 'eurofolk', 'european', 'experimental', 'extrememetal', 'fado', 'film', 'fitness', 'flamenco', 'folk', 'folklore', 'folkmetal', 'folkrock', 'folktronica', 'forró', 'frankreich', 'französisch', 'french', 'funk', 'future', 'gangsta', 'garage', 'german', 'ghazal', 'gitarre', 'glitch', 'gospel', 'gothic', 'grime', 'grunge', 'gypsy', 'handsup', \"hard'n'heavy\", 'hardcore', 'hardstyle', 'hardtechno', 'hiphop', 'historisch', 'holiday', 'horror', 'house', 'idm', 'independent', 'indian', 'indie', 'indipop', 'industrial', 'inspirational', 'instrumental', 'international', 'irish', 'jam', 'japanese', 'jazz', 'jewish', 'jpop', 'jungle', 'k-pop', 'karadeniz', 'karaoke', 'kayokyoku', 'korean', 'laiko', 'latin', 'latino', 'leftfield', 'local', 'lounge', 'loungeelectronic', 'lovers', 'malaysian', 'mandopop', 'marschmusik', 'meditative', 'mediterranean', 'melodic', 'metal', 'metalcore', 'mexican', 'middle', 'minimal', 'miscellaneous', 'modern', 'mood', 'mpb', 'muslim', 'native', 'neoklassik', 'neue', 'new', 'newage', 'newwave', 'nu', 'nujazz', 'numetal', 'oceania', 'old', 'opera', 'orchestral', 'other', 'piano', 'pop', 'popelectronic', 'popeurodance', 'post', 'posthardcore', 'postrock', 'power', 'progmetal', 'progressive', 'psychedelic', 'punjabi', 'punk', 'quebecois', 'ragga', 'ram', 'rancheras', 'rap', 'rave', 'reggae', 'reggaeton', 'regional', 'relax', 'religious', 'retro', 'rhythm', 'rnb', 'rnr', 'rock', 'rockabilly', 'romance', 'roots', 'ruspop', 'rusrap', 'rusrock', 'salsa', 'samba', 'schlager', 'self', 'sertanejo', 'shoegazing', 'showtunes', 'singer', 'ska', 'slow', 'smooth', 'soul', 'soulful', 'sound', 'soundtrack', 'southern', 'specialty', 'speech', 'spiritual', 'sport', 'stonerrock', 'surf', 'swing', 'synthpop', 'sängerportrait', 'tango', 'tanzorchester', 'taraftar', 'tech', 'techno', 'thrash', 'top', 'traditional', 'tradjazz', 'trance', 'tribal', 'trip', 'triphop', 'tropical', 'türk', 'türkçe', 'unknown', 'urban', 'uzbek', 'variété', 'vi', 'videogame', 'vocal', 'western', 'world', 'worldbeat', 'ïîï']\n",
      "266\n"
     ]
    }
   ],
   "source": [
    "# Comprobación de duplicados implícitos\n",
    "print(sorted(df['genre'].unique()))\n",
    "print('Total :', df['genre'].nunique())"
   ]
  },
  {
   "cell_type": "markdown",
   "metadata": {
    "id": "jz6a9-7HQUDd"
   },
   "source": [
    "### Observaciones <a id='data_preprocessing_conclusions'></a>\n",
    "- Los encabezados de la tabla se han adaptado a las reglas de estilo. Se eliminaron los espacios y se utilizaron letras minúsculas. La columna `userid` se ha renombrado a `user_id`.\n",
    "- Los valores ausentes se han reemplazado por el string `'unknown'` en las columnas `track`, `artist` y `genre`. Después de este paso, no hay valores ausentes en la tabla.\n",
    "- Habia una gran cantidad de duplicados, para abordar su eliminacion se recurrío al metodo drop_duplicates() junto con reset_index() para poder tener la tabla sin duplicados con una indexación ordenada nuevamente."
   ]
  },
  {
   "cell_type": "markdown",
   "metadata": {
    "id": "WttZHXH0SqKk"
   },
   "source": [
    "## Etapa 3. Prueba de hipótesis <a id='hypothesis'></a>"
   ]
  },
  {
   "cell_type": "markdown",
   "metadata": {
    "id": "nwt_MuaL_Zcu"
   },
   "source": [
    "La hipótesis afirma que existen diferencias en la forma en que los usuarios y las usuarias de Springfield y Shelbyville consumen música. Para comprobar esto, se usará los datos de tres días de la semana: lunes, miércoles y viernes. El proceso se describe acontinuación:\n",
    "\n",
    "* Se agrupa a los usuarios y las usuarias por ciudad.\n",
    "* Se compara el número de canciones que cada grupo reprodujo el lunes, el miércoles y el viernes.\n"
   ]
  },
  {
   "cell_type": "markdown",
   "metadata": {
    "id": "8Dw_YMmT_Zcu"
   },
   "source": [
    "El objetivo ahora es agrupar los datos por ciudad, aplicar el método apropiado para contar durante la etapa de aplicación y luego encontrar la cantidad de canciones reproducidas en cada grupo especificando la columna para obtener el recuento."
   ]
  },
  {
   "cell_type": "code",
   "execution_count": 22,
   "metadata": {
    "id": "0_Qs96oh_Zcu",
    "trusted": true
   },
   "outputs": [
    {
     "name": "stdout",
     "output_type": "stream",
     "text": [
      "city\n",
      "Shelbyville    18512\n",
      "Springfield    42741\n",
      "Name: genre, dtype: int64\n"
     ]
    }
   ],
   "source": [
    "# Contar las canciones reproducidas en cada ciudad\n",
    "print(df.groupby('city')['genre'].count())"
   ]
  },
  {
   "cell_type": "markdown",
   "metadata": {
    "id": "t_Qx-3NewAnK"
   },
   "source": [
    "Springfield tiene mas de 2 veces la cantidad de reproducciones que Shelbyville, eso significa que los resultados de las pruebas tendran más peso para la poblacion de Springfield."
   ]
  },
  {
   "cell_type": "markdown",
   "metadata": {
    "id": "dzli3w8o_Zcu"
   },
   "source": [
    "Ahora agrupemos los datos por día de la semana y encontremos el número de canciones reproducidas el lunes, miércoles y viernes."
   ]
  },
  {
   "cell_type": "code",
   "execution_count": 23,
   "metadata": {
    "id": "uZMKjiJz_Zcu",
    "trusted": true
   },
   "outputs": [
    {
     "name": "stdout",
     "output_type": "stream",
     "text": [
      "day\n",
      "Friday       21840\n",
      "Monday       21354\n",
      "Wednesday    18059\n",
      "Name: genre, dtype: int64\n"
     ]
    }
   ],
   "source": [
    "# Calcular las canciones reproducidas en cada uno de los tres días\n",
    "print(df.groupby('day')['genre'].count())"
   ]
  },
  {
   "cell_type": "markdown",
   "metadata": {
    "id": "cC2tNrlL_Zcu"
   },
   "source": [
    "A medida que la semana avanza las personas suelen reproducir mas música."
   ]
  },
  {
   "cell_type": "markdown",
   "metadata": {
    "id": "POzs8bGa_Zcu"
   },
   "source": [
    "Crearemos la función `number_tracks()` para calcular el número de canciones reproducidas en un determinado día **y** ciudad. La función debe aceptar dos parámetros:\n",
    "\n",
    "- `day`: un día de la semana para filtrar. Por ejemplo, `'Monday'` (lunes).\n",
    "- `city`: una ciudad para filtrar. Por ejemplo, `'Springfield'`.\n",
    "\n",
    "Después de filtrar los datos por dos criterios, cuenta el número de valores de la columna 'user_id' en la tabla resultante."
   ]
  },
  {
   "cell_type": "code",
   "execution_count": null,
   "metadata": {
    "id": "Nz3GdQB1_Zcu",
    "trusted": true
   },
   "outputs": [],
   "source": [
    "# Función number_tracks() con dos parámetros: day= y city=.\n",
    "def number_tracks(day, city):\n",
    "    # Almacena las filas del DataFrame donde el valor en la columna 'day' es igual al parámetro day= y en la columna 'city' es igual al parámetro city=\n",
    "    df_day_city = df[(df['day'] == day) & (df['city'] == city)]\n",
    "    # Extrae la columna 'user_id' de la tabla filtrada y aplica el método count()\n",
    "    users_amount = df_day_city['user_id'].count()\n",
    "    # Devolve el número de valores de la columna 'user_id'\n",
    "    return users_amount"
   ]
  },
  {
   "cell_type": "markdown",
   "metadata": {
    "id": "ytf7xFrFJQ2r"
   },
   "source": [
    "Llamaremos a `number_tracks()` seis veces, cambiando los valores de los parámetros para que recuperes los datos de ambas ciudades para cada uno de los tres días."
   ]
  },
  {
   "cell_type": "code",
   "execution_count": 25,
   "metadata": {
    "id": "rJcRATNQ_Zcu",
    "trusted": true
   },
   "outputs": [
    {
     "name": "stdout",
     "output_type": "stream",
     "text": [
      "15740\n"
     ]
    }
   ],
   "source": [
    "# El número de canciones reproducidas en Springfield el lunes\n",
    "print(number_tracks('Monday', 'Springfield'))"
   ]
  },
  {
   "cell_type": "code",
   "execution_count": 26,
   "metadata": {
    "id": "hq_ncZ5T_Zcu",
    "trusted": true
   },
   "outputs": [
    {
     "name": "stdout",
     "output_type": "stream",
     "text": [
      "5614\n"
     ]
    }
   ],
   "source": [
    "# El número de canciones reproducidas en Shelbyville el lunes\n",
    "print(number_tracks('Monday', 'Shelbyville'))"
   ]
  },
  {
   "cell_type": "code",
   "execution_count": 27,
   "metadata": {
    "id": "_NTy2VPU_Zcu",
    "trusted": true
   },
   "outputs": [
    {
     "name": "stdout",
     "output_type": "stream",
     "text": [
      "11056\n"
     ]
    }
   ],
   "source": [
    "# El número de canciones reproducidas en Springfield el miércoles\n",
    "print(number_tracks('Wednesday', 'Springfield'))"
   ]
  },
  {
   "cell_type": "code",
   "execution_count": 28,
   "metadata": {
    "id": "j2y3TAwo_Zcu",
    "trusted": true
   },
   "outputs": [
    {
     "name": "stdout",
     "output_type": "stream",
     "text": [
      "7003\n"
     ]
    }
   ],
   "source": [
    "# El número de canciones reproducidas en Shelbyville el miércoles\n",
    "print(number_tracks('Wednesday', 'Shelbyville'))"
   ]
  },
  {
   "cell_type": "code",
   "execution_count": 29,
   "metadata": {
    "id": "vYDw5u_K_Zcu",
    "trusted": true
   },
   "outputs": [
    {
     "name": "stdout",
     "output_type": "stream",
     "text": [
      "15945\n"
     ]
    }
   ],
   "source": [
    "# El número de canciones reproducidas en Springfield el viernes\n",
    "print(number_tracks('Friday', 'Springfield'))"
   ]
  },
  {
   "cell_type": "code",
   "execution_count": 30,
   "metadata": {
    "id": "8_yzFtW3_Zcu",
    "trusted": true
   },
   "outputs": [
    {
     "name": "stdout",
     "output_type": "stream",
     "text": [
      "5895\n"
     ]
    }
   ],
   "source": [
    "# El número de canciones reproducidas en Shelbyville el viernes\n",
    "print(number_tracks('Friday', 'Shelbyville'))"
   ]
  },
  {
   "cell_type": "markdown",
   "metadata": {
    "id": "ykKQ0N65_Zcv"
   },
   "source": [
    "# Conclusiones <a id='end'></a>"
   ]
  },
  {
   "cell_type": "markdown",
   "metadata": {
    "id": "tjUwbHb3_Zcv"
   },
   "source": [
    "A pesar de los resultados obtenidos, recomendamos más estudios para poder argumentar que la hipótesis es fuertemente sostenida por los datos, aunque podemos decir que la hipótesis es parcialmente cierta con estas observaciones.\n",
    "\n",
    "Los resultados de las pruebas muestran que el número de reproducciones de canciones en Springfield es mayor que en Shelbyville. En Springfield, el lunes se reproducen 2.8 veces más canciones que en Shelbyville, el miércoles 1,5 veces más y el viernes 2,7 veces más. Concluimos también que las ciudades muestran diferentes patrones a lo largo de la semana. Mientras Springfield tiene más reproducciones a inicio y final de semana (lunes y viernes), Shelbyville encuentra el mayor número de reproducciones a mitad de semana (miércoles)."
   ]
  }
 ],
 "metadata": {
  "ExecuteTimeLog": [
   {
    "duration": 286,
    "start_time": "2024-12-08T23:55:05.791Z"
   },
   {
    "duration": 111,
    "start_time": "2024-12-08T23:55:45.098Z"
   },
   {
    "duration": 7,
    "start_time": "2024-12-08T23:55:57.696Z"
   },
   {
    "duration": 21,
    "start_time": "2024-12-08T23:56:33.632Z"
   },
   {
    "duration": 3,
    "start_time": "2024-12-09T00:07:16.058Z"
   },
   {
    "duration": 3,
    "start_time": "2024-12-09T00:14:50.544Z"
   },
   {
    "duration": 3,
    "start_time": "2024-12-09T00:16:32.914Z"
   },
   {
    "duration": 3,
    "start_time": "2024-12-09T00:22:50.255Z"
   },
   {
    "duration": 101,
    "start_time": "2024-12-09T00:23:03.121Z"
   },
   {
    "duration": 5,
    "start_time": "2024-12-09T00:23:05.044Z"
   },
   {
    "duration": 3,
    "start_time": "2024-12-09T00:23:13.670Z"
   },
   {
    "duration": 3,
    "start_time": "2024-12-09T00:23:15.841Z"
   },
   {
    "duration": 3,
    "start_time": "2024-12-09T00:23:19.609Z"
   },
   {
    "duration": 346,
    "start_time": "2024-12-09T00:24:05.643Z"
   },
   {
    "duration": 20,
    "start_time": "2024-12-09T00:26:05.722Z"
   },
   {
    "duration": 4,
    "start_time": "2024-12-09T00:26:19.437Z"
   },
   {
    "duration": 2,
    "start_time": "2024-12-09T00:26:45.627Z"
   },
   {
    "duration": 19,
    "start_time": "2024-12-09T00:27:41.130Z"
   },
   {
    "duration": 19,
    "start_time": "2024-12-09T00:28:16.467Z"
   },
   {
    "duration": 10,
    "start_time": "2024-12-09T00:32:21.230Z"
   },
   {
    "duration": 16,
    "start_time": "2024-12-09T00:32:24.331Z"
   },
   {
    "duration": 42,
    "start_time": "2024-12-09T00:33:13.374Z"
   },
   {
    "duration": 42,
    "start_time": "2024-12-09T00:34:16.838Z"
   },
   {
    "duration": 53,
    "start_time": "2024-12-09T00:34:21.835Z"
   },
   {
    "duration": 51,
    "start_time": "2024-12-09T00:34:50.676Z"
   },
   {
    "duration": 39,
    "start_time": "2024-12-09T00:34:52.594Z"
   },
   {
    "duration": 6,
    "start_time": "2024-12-09T00:35:46.128Z"
   },
   {
    "duration": 18,
    "start_time": "2024-12-09T00:36:15.849Z"
   },
   {
    "duration": 14,
    "start_time": "2024-12-09T00:36:27.989Z"
   },
   {
    "duration": 5,
    "start_time": "2024-12-09T00:36:49.043Z"
   },
   {
    "duration": 15,
    "start_time": "2024-12-09T00:37:03.026Z"
   },
   {
    "duration": 5,
    "start_time": "2024-12-09T00:37:28.942Z"
   },
   {
    "duration": 5,
    "start_time": "2024-12-09T00:37:40.070Z"
   },
   {
    "duration": 3,
    "start_time": "2024-12-09T00:41:03.507Z"
   },
   {
    "duration": 60,
    "start_time": "2024-12-09T00:41:54.058Z"
   },
   {
    "duration": 5,
    "start_time": "2024-12-09T00:42:04.978Z"
   },
   {
    "duration": 2,
    "start_time": "2024-12-09T00:42:24.466Z"
   },
   {
    "duration": 68,
    "start_time": "2024-12-09T00:42:26.681Z"
   },
   {
    "duration": 3,
    "start_time": "2024-12-09T00:42:45.989Z"
   },
   {
    "duration": 64,
    "start_time": "2024-12-09T00:42:48.228Z"
   },
   {
    "duration": 6,
    "start_time": "2024-12-09T00:42:50.558Z"
   },
   {
    "duration": 2,
    "start_time": "2024-12-09T00:43:50.522Z"
   },
   {
    "duration": 6,
    "start_time": "2024-12-09T00:43:52.307Z"
   },
   {
    "duration": 6,
    "start_time": "2024-12-09T00:43:54.935Z"
   },
   {
    "duration": 2,
    "start_time": "2024-12-09T00:44:41.091Z"
   },
   {
    "duration": 90,
    "start_time": "2024-12-09T00:44:43.223Z"
   },
   {
    "duration": 6,
    "start_time": "2024-12-09T00:44:45.565Z"
   },
   {
    "duration": 20,
    "start_time": "2024-12-09T00:44:50.145Z"
   },
   {
    "duration": 3,
    "start_time": "2024-12-09T00:44:53.126Z"
   },
   {
    "duration": 4,
    "start_time": "2024-12-09T00:44:54.788Z"
   },
   {
    "duration": 4,
    "start_time": "2024-12-09T00:44:56.353Z"
   },
   {
    "duration": 3,
    "start_time": "2024-12-09T00:44:57.450Z"
   },
   {
    "duration": 2,
    "start_time": "2024-12-09T00:44:59.033Z"
   },
   {
    "duration": 17,
    "start_time": "2024-12-09T00:45:01.245Z"
   },
   {
    "duration": 10,
    "start_time": "2024-12-09T00:45:02.456Z"
   },
   {
    "duration": 17,
    "start_time": "2024-12-09T00:45:03.340Z"
   },
   {
    "duration": 42,
    "start_time": "2024-12-09T00:45:05.039Z"
   },
   {
    "duration": 43,
    "start_time": "2024-12-09T00:45:06.377Z"
   },
   {
    "duration": 39,
    "start_time": "2024-12-09T00:45:07.780Z"
   },
   {
    "duration": 5,
    "start_time": "2024-12-09T00:45:10.527Z"
   },
   {
    "duration": 3,
    "start_time": "2024-12-09T00:46:42.007Z"
   },
   {
    "duration": 20,
    "start_time": "2024-12-09T00:46:44.163Z"
   },
   {
    "duration": 2,
    "start_time": "2024-12-09T00:46:54.751Z"
   },
   {
    "duration": 18,
    "start_time": "2024-12-09T00:46:56.629Z"
   },
   {
    "duration": 6,
    "start_time": "2024-12-09T00:46:59.424Z"
   },
   {
    "duration": 2,
    "start_time": "2024-12-09T00:47:10.594Z"
   },
   {
    "duration": 6,
    "start_time": "2024-12-09T00:47:12.142Z"
   },
   {
    "duration": 6,
    "start_time": "2024-12-09T00:47:14.181Z"
   },
   {
    "duration": 6,
    "start_time": "2024-12-09T00:47:19.675Z"
   },
   {
    "duration": 3,
    "start_time": "2024-12-09T00:47:31.517Z"
   },
   {
    "duration": 97,
    "start_time": "2024-12-09T00:47:33.185Z"
   },
   {
    "duration": 5,
    "start_time": "2024-12-09T00:47:33.918Z"
   },
   {
    "duration": 20,
    "start_time": "2024-12-09T00:47:34.660Z"
   },
   {
    "duration": 3,
    "start_time": "2024-12-09T00:47:36.373Z"
   },
   {
    "duration": 3,
    "start_time": "2024-12-09T00:47:36.984Z"
   },
   {
    "duration": 4,
    "start_time": "2024-12-09T00:47:37.401Z"
   },
   {
    "duration": 3,
    "start_time": "2024-12-09T00:47:37.832Z"
   },
   {
    "duration": 3,
    "start_time": "2024-12-09T00:47:38.283Z"
   },
   {
    "duration": 17,
    "start_time": "2024-12-09T00:47:39.660Z"
   },
   {
    "duration": 10,
    "start_time": "2024-12-09T00:47:40.405Z"
   },
   {
    "duration": 16,
    "start_time": "2024-12-09T00:47:41.737Z"
   },
   {
    "duration": 39,
    "start_time": "2024-12-09T00:47:43.531Z"
   },
   {
    "duration": 43,
    "start_time": "2024-12-09T00:47:44.477Z"
   },
   {
    "duration": 37,
    "start_time": "2024-12-09T00:47:44.914Z"
   },
   {
    "duration": 5,
    "start_time": "2024-12-09T00:47:46.865Z"
   },
   {
    "duration": 3,
    "start_time": "2024-12-09T00:48:11.289Z"
   },
   {
    "duration": 16,
    "start_time": "2024-12-09T00:48:12.769Z"
   },
   {
    "duration": 5,
    "start_time": "2024-12-09T00:48:14.000Z"
   },
   {
    "duration": 3,
    "start_time": "2024-12-09T00:49:11.219Z"
   },
   {
    "duration": 18,
    "start_time": "2024-12-09T00:49:12.860Z"
   },
   {
    "duration": 5,
    "start_time": "2024-12-09T00:49:15.566Z"
   },
   {
    "duration": 3,
    "start_time": "2024-12-09T00:49:56.444Z"
   },
   {
    "duration": 14,
    "start_time": "2024-12-09T00:49:59.106Z"
   },
   {
    "duration": 5,
    "start_time": "2024-12-09T00:50:01.032Z"
   },
   {
    "duration": 3,
    "start_time": "2024-12-09T00:50:18.128Z"
   },
   {
    "duration": 13,
    "start_time": "2024-12-09T00:50:19.865Z"
   },
   {
    "duration": 5,
    "start_time": "2024-12-09T00:50:22.729Z"
   },
   {
    "duration": 2,
    "start_time": "2024-12-09T00:50:43.026Z"
   },
   {
    "duration": 26,
    "start_time": "2024-12-09T00:50:44.453Z"
   },
   {
    "duration": 3,
    "start_time": "2024-12-09T00:51:05.479Z"
   },
   {
    "duration": 14,
    "start_time": "2024-12-09T00:51:07.220Z"
   },
   {
    "duration": 6,
    "start_time": "2024-12-09T00:51:10.147Z"
   },
   {
    "duration": 3,
    "start_time": "2024-12-09T00:51:35.487Z"
   },
   {
    "duration": 12,
    "start_time": "2024-12-09T00:51:36.816Z"
   },
   {
    "duration": 6,
    "start_time": "2024-12-09T00:51:37.428Z"
   },
   {
    "duration": 3,
    "start_time": "2024-12-09T00:53:13.598Z"
   },
   {
    "duration": 15,
    "start_time": "2024-12-09T00:53:15.576Z"
   },
   {
    "duration": 5,
    "start_time": "2024-12-09T00:53:18.046Z"
   },
   {
    "duration": 2,
    "start_time": "2024-12-09T00:54:12.419Z"
   },
   {
    "duration": 25,
    "start_time": "2024-12-09T00:54:14.009Z"
   },
   {
    "duration": 5,
    "start_time": "2024-12-09T00:54:16.166Z"
   },
   {
    "duration": 97,
    "start_time": "2024-12-09T00:58:53.139Z"
   },
   {
    "duration": 5,
    "start_time": "2024-12-09T00:58:53.399Z"
   },
   {
    "duration": 25,
    "start_time": "2024-12-09T00:58:53.991Z"
   },
   {
    "duration": 4,
    "start_time": "2024-12-09T00:58:54.744Z"
   },
   {
    "duration": 3,
    "start_time": "2024-12-09T00:58:55.163Z"
   },
   {
    "duration": 4,
    "start_time": "2024-12-09T00:58:55.520Z"
   },
   {
    "duration": 3,
    "start_time": "2024-12-09T00:58:55.766Z"
   },
   {
    "duration": 3,
    "start_time": "2024-12-09T00:58:56.052Z"
   },
   {
    "duration": 19,
    "start_time": "2024-12-09T00:58:56.571Z"
   },
   {
    "duration": 11,
    "start_time": "2024-12-09T00:58:56.974Z"
   },
   {
    "duration": 19,
    "start_time": "2024-12-09T00:58:57.288Z"
   },
   {
    "duration": 42,
    "start_time": "2024-12-09T00:58:57.774Z"
   },
   {
    "duration": 62,
    "start_time": "2024-12-09T00:58:58.150Z"
   },
   {
    "duration": 42,
    "start_time": "2024-12-09T00:58:58.565Z"
   },
   {
    "duration": 55,
    "start_time": "2024-12-09T00:59:17.356Z"
   },
   {
    "duration": 41,
    "start_time": "2024-12-09T00:59:19.262Z"
   },
   {
    "duration": 6,
    "start_time": "2024-12-09T00:59:23.288Z"
   },
   {
    "duration": 2,
    "start_time": "2024-12-09T00:59:33.289Z"
   },
   {
    "duration": 24,
    "start_time": "2024-12-09T00:59:34.280Z"
   },
   {
    "duration": 5,
    "start_time": "2024-12-09T00:59:36.937Z"
   },
   {
    "duration": 8,
    "start_time": "2024-12-09T01:01:48.680Z"
   },
   {
    "duration": 15,
    "start_time": "2024-12-09T01:02:09.862Z"
   },
   {
    "duration": 149,
    "start_time": "2024-12-09T01:03:08.683Z"
   },
   {
    "duration": 8,
    "start_time": "2024-12-09T01:03:14.263Z"
   },
   {
    "duration": 9,
    "start_time": "2024-12-09T01:07:54.991Z"
   },
   {
    "duration": 4,
    "start_time": "2024-12-09T01:17:08.156Z"
   },
   {
    "duration": 3,
    "start_time": "2024-12-09T01:17:12.695Z"
   },
   {
    "duration": 21,
    "start_time": "2024-12-09T01:18:08.424Z"
   },
   {
    "duration": 3,
    "start_time": "2024-12-09T01:18:27.393Z"
   },
   {
    "duration": 7,
    "start_time": "2024-12-09T01:18:29.541Z"
   },
   {
    "duration": 7,
    "start_time": "2024-12-09T01:18:49.638Z"
   },
   {
    "duration": 6,
    "start_time": "2024-12-09T01:19:04.841Z"
   },
   {
    "duration": 7,
    "start_time": "2024-12-09T01:20:20.081Z"
   },
   {
    "duration": 3,
    "start_time": "2024-12-09T01:22:21.435Z"
   },
   {
    "duration": 7,
    "start_time": "2024-12-09T01:22:26.578Z"
   },
   {
    "duration": 8,
    "start_time": "2024-12-09T01:25:04.651Z"
   },
   {
    "duration": 3,
    "start_time": "2024-12-09T01:25:15.795Z"
   },
   {
    "duration": 7,
    "start_time": "2024-12-09T01:25:17.933Z"
   },
   {
    "duration": 7,
    "start_time": "2024-12-09T01:25:34.250Z"
   },
   {
    "duration": 3,
    "start_time": "2024-12-09T01:25:41.878Z"
   },
   {
    "duration": 7,
    "start_time": "2024-12-09T01:25:43.757Z"
   },
   {
    "duration": 12,
    "start_time": "2024-12-09T01:26:10.797Z"
   },
   {
    "duration": 3,
    "start_time": "2024-12-09T01:26:18.448Z"
   },
   {
    "duration": 7,
    "start_time": "2024-12-09T01:26:23.376Z"
   },
   {
    "duration": 3,
    "start_time": "2024-12-09T01:27:12.231Z"
   },
   {
    "duration": 7,
    "start_time": "2024-12-09T01:27:13.853Z"
   },
   {
    "duration": 2,
    "start_time": "2024-12-09T01:27:49.396Z"
   },
   {
    "duration": 6,
    "start_time": "2024-12-09T01:27:52.054Z"
   },
   {
    "duration": 2,
    "start_time": "2024-12-09T01:29:24.745Z"
   },
   {
    "duration": 6,
    "start_time": "2024-12-09T01:29:27.459Z"
   },
   {
    "duration": 2,
    "start_time": "2024-12-09T01:29:44.830Z"
   },
   {
    "duration": 6,
    "start_time": "2024-12-09T01:29:47.123Z"
   },
   {
    "duration": 7,
    "start_time": "2024-12-09T01:30:23.412Z"
   },
   {
    "duration": 3,
    "start_time": "2024-12-09T01:30:29.291Z"
   },
   {
    "duration": 13,
    "start_time": "2024-12-09T01:30:30.945Z"
   },
   {
    "duration": 12,
    "start_time": "2024-12-09T01:30:35.579Z"
   },
   {
    "duration": 13,
    "start_time": "2024-12-09T01:30:46.032Z"
   },
   {
    "duration": 11,
    "start_time": "2024-12-09T01:30:47.947Z"
   },
   {
    "duration": 13,
    "start_time": "2024-12-09T01:30:49.885Z"
   },
   {
    "duration": 12,
    "start_time": "2024-12-09T01:31:19.203Z"
   },
   {
    "duration": 13,
    "start_time": "2024-12-09T01:31:21.682Z"
   },
   {
    "duration": 12,
    "start_time": "2024-12-09T01:31:23.482Z"
   },
   {
    "duration": 155,
    "start_time": "2024-12-10T08:42:23.132Z"
   },
   {
    "duration": 290,
    "start_time": "2024-12-10T08:47:21.076Z"
   },
   {
    "duration": 114,
    "start_time": "2024-12-10T08:47:24.568Z"
   },
   {
    "duration": 13,
    "start_time": "2024-12-10T08:47:27.672Z"
   },
   {
    "duration": 21,
    "start_time": "2024-12-10T08:47:38.411Z"
   },
   {
    "duration": 3,
    "start_time": "2024-12-10T08:47:45.426Z"
   },
   {
    "duration": 3,
    "start_time": "2024-12-10T08:47:47.557Z"
   },
   {
    "duration": 3,
    "start_time": "2024-12-10T08:47:49.633Z"
   },
   {
    "duration": 3,
    "start_time": "2024-12-10T08:47:51.904Z"
   },
   {
    "duration": 4,
    "start_time": "2024-12-10T08:47:54.206Z"
   },
   {
    "duration": 16,
    "start_time": "2024-12-10T08:47:57.187Z"
   },
   {
    "duration": 9,
    "start_time": "2024-12-10T08:48:00.047Z"
   },
   {
    "duration": 16,
    "start_time": "2024-12-10T08:48:06.204Z"
   },
   {
    "duration": 42,
    "start_time": "2024-12-10T08:48:20.992Z"
   },
   {
    "duration": 49,
    "start_time": "2024-12-10T08:48:23.609Z"
   },
   {
    "duration": 38,
    "start_time": "2024-12-10T08:48:26.763Z"
   },
   {
    "duration": 39,
    "start_time": "2024-12-10T08:48:31.029Z"
   },
   {
    "duration": 8,
    "start_time": "2024-12-10T08:48:49.080Z"
   },
   {
    "duration": 2,
    "start_time": "2024-12-10T08:49:07.138Z"
   },
   {
    "duration": 24,
    "start_time": "2024-12-10T08:49:09.934Z"
   },
   {
    "duration": 8,
    "start_time": "2024-12-10T08:49:14.053Z"
   },
   {
    "duration": 8,
    "start_time": "2024-12-10T08:50:07.781Z"
   },
   {
    "duration": 8,
    "start_time": "2024-12-10T08:50:14.998Z"
   },
   {
    "duration": 3,
    "start_time": "2024-12-10T08:50:46.572Z"
   },
   {
    "duration": 12,
    "start_time": "2024-12-10T08:50:49.528Z"
   },
   {
    "duration": 11,
    "start_time": "2024-12-10T08:50:51.638Z"
   },
   {
    "duration": 11,
    "start_time": "2024-12-10T08:50:53.428Z"
   },
   {
    "duration": 11,
    "start_time": "2024-12-10T08:50:55.253Z"
   },
   {
    "duration": 13,
    "start_time": "2024-12-10T08:50:57.254Z"
   },
   {
    "duration": 12,
    "start_time": "2024-12-10T08:50:59.301Z"
   }
  ],
  "colab": {
   "collapsed_sections": [
    "E0vqbgi9ay0H",
    "VUC88oWjTJw2"
   ],
   "provenance": []
  },
  "kernelspec": {
   "display_name": "Python 3 (ipykernel)",
   "language": "python",
   "name": "python3"
  },
  "language_info": {
   "codemirror_mode": {
    "name": "ipython",
    "version": 3
   },
   "file_extension": ".py",
   "mimetype": "text/x-python",
   "name": "python",
   "nbconvert_exporter": "python",
   "pygments_lexer": "ipython3",
   "version": "3.9.19"
  },
  "toc": {
   "base_numbering": 1,
   "nav_menu": {},
   "number_sections": true,
   "sideBar": true,
   "skip_h1_title": true,
   "title_cell": "Table of Contents",
   "title_sidebar": "Contents",
   "toc_cell": false,
   "toc_position": {},
   "toc_section_display": true,
   "toc_window_display": false
  }
 },
 "nbformat": 4,
 "nbformat_minor": 1
}
